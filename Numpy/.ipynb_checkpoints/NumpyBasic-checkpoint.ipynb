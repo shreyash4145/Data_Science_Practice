{
 "cells": [
  {
   "cell_type": "code",
   "execution_count": null,
   "metadata": {
    "id": "q7oBD6rJ9O7_"
   },
   "outputs": [],
   "source": []
  },
  {
   "cell_type": "markdown",
   "metadata": {
    "id": "hVdhVvO1CteV"
   },
   "source": [
    "## What is NumPy?\n",
    "NumPy is a Python library used for working with arrays.\n",
    "\n",
    "It also has functions for working in domain of linear algebra, fourier transform, and matrices.\n",
    "\n",
    "NumPy was created in 2005 by Travis Oliphant. It is an open source project and you can use it freely.\n",
    "\n",
    "NumPy stands for Numerical Python."
   ]
  },
  {
   "cell_type": "markdown",
   "metadata": {
    "id": "WdF8v_l8CwR5"
   },
   "source": [
    "## Why Use NumPy?\n",
    "In Python we have lists that serve the purpose of arrays, but they are slow to process.\n",
    "\n",
    "NumPy aims to provide an array object that is up to 50x faster than traditional Python lists.\n",
    "\n",
    "The array object in NumPy is called ndarray, it provides a lot of supporting functions that make working with ndarray very easy.\n",
    "\n",
    "Arrays are very frequently used in data science, where speed and resources are very important."
   ]
  },
  {
   "cell_type": "markdown",
   "metadata": {
    "id": "VNAeKb2JC6J_"
   },
   "source": [
    "## Why is NumPy Faster Than Lists?\n",
    "NumPy arrays are stored at one continuous place in memory unlike lists, so processes can access and manipulate them very efficiently.\n",
    "\n",
    "This behavior is called locality of reference in computer science.\n",
    "\n",
    "This is the main reason why NumPy is faster than lists. Also it is optimized to work with latest CPU architectures."
   ]
  },
  {
   "cell_type": "markdown",
   "metadata": {
    "id": "kbzQwvwsC-n7"
   },
   "source": [
    "## Which Language is NumPy written in?\n",
    "NumPy is a Python library and is written partially in Python, but most of the parts that require fast computation are written in C or C++."
   ]
  },
  {
   "cell_type": "markdown",
   "metadata": {
    "id": "OG9vzxc5B76C"
   },
   "source": [
    "Application of Numpy\n",
    "\n",
    "\n",
    "1.   a powerful N-dimenstional array object\n",
    "2.   sophisticated (broadcasting) function\n",
    "3. tools for integrating C/C++ and Fortran code\n",
    "4. usful linear algebra, Fourier transform and random number capabilities\n",
    "\n",
    "\n"
   ]
  },
  {
   "cell_type": "markdown",
   "metadata": {
    "id": "h9QBzOyvDmEv"
   },
   "source": [
    "## Creating Numpy Arrays\n",
    "\n",
    "\n",
    "1.   Using np.array()//1-D and 2-D\n",
    "2.   Using np.zeros/ones/empty/random()\n",
    "3. Using np.arange()\n",
    "4. Using np.linspace()\n",
    "5. Using Copy()\n",
    "6. Using Identity()"
   ]
  },
  {
   "cell_type": "code",
   "execution_count": 1,
   "metadata": {
    "executionInfo": {
     "elapsed": 3,
     "status": "ok",
     "timestamp": 1689684924959,
     "user": {
      "displayName": "Smita Kulkarni",
      "userId": "08881354177496898482"
     },
     "user_tz": -330
    },
    "id": "0NxjybiGB-uj"
   },
   "outputs": [],
   "source": [
    "#creating numpy/n-d array\n",
    "import numpy as np\n"
   ]
  },
  {
   "cell_type": "code",
   "execution_count": 3,
   "metadata": {
    "colab": {
     "base_uri": "https://localhost:8080/"
    },
    "executionInfo": {
     "elapsed": 3,
     "status": "ok",
     "timestamp": 1689685097551,
     "user": {
      "displayName": "Smita Kulkarni",
      "userId": "08881354177496898482"
     },
     "user_tz": -330
    },
    "id": "57xb0UuYEbWc",
    "outputId": "6371be18-8ddb-4077-ec1a-4acfc9647033"
   },
   "outputs": [
    {
     "data": {
      "text/plain": [
       "array([1, 2, 3, 4])"
      ]
     },
     "execution_count": 3,
     "metadata": {},
     "output_type": "execute_result"
    }
   ],
   "source": [
    "arr1=np.array([1,2,3,4])\n",
    "arr1"
   ]
  },
  {
   "cell_type": "code",
   "execution_count": 4,
   "metadata": {
    "colab": {
     "base_uri": "https://localhost:8080/"
    },
    "executionInfo": {
     "elapsed": 2,
     "status": "ok",
     "timestamp": 1689685577977,
     "user": {
      "displayName": "Smita Kulkarni",
      "userId": "08881354177496898482"
     },
     "user_tz": -330
    },
    "id": "ASyFEqhnE5RG",
    "outputId": "9de757cf-bb13-4bae-eb51-7223b69dd62e"
   },
   "outputs": [
    {
     "data": {
      "text/plain": [
       "numpy.ndarray"
      ]
     },
     "execution_count": 4,
     "metadata": {},
     "output_type": "execute_result"
    }
   ],
   "source": [
    "type(arr1)"
   ]
  },
  {
   "cell_type": "code",
   "execution_count": 6,
   "metadata": {
    "colab": {
     "base_uri": "https://localhost:8080/"
    },
    "executionInfo": {
     "elapsed": 422,
     "status": "ok",
     "timestamp": 1689685634083,
     "user": {
      "displayName": "Smita Kulkarni",
      "userId": "08881354177496898482"
     },
     "user_tz": -330
    },
    "id": "4pLUDETaG8pF",
    "outputId": "e07d491a-3b23-4db5-aa5c-7e230d8b2410"
   },
   "outputs": [
    {
     "data": {
      "text/plain": [
       "array([[1, 2, 3],\n",
       "       [4, 5, 6]])"
      ]
     },
     "execution_count": 6,
     "metadata": {},
     "output_type": "execute_result"
    }
   ],
   "source": [
    "arr2=np.array([[1,2,3],[4,5,6]])\n",
    "arr2"
   ]
  },
  {
   "cell_type": "code",
   "execution_count": 7,
   "metadata": {
    "colab": {
     "base_uri": "https://localhost:8080/"
    },
    "executionInfo": {
     "elapsed": 2,
     "status": "ok",
     "timestamp": 1689685739597,
     "user": {
      "displayName": "Smita Kulkarni",
      "userId": "08881354177496898482"
     },
     "user_tz": -330
    },
    "id": "VT5kJQnZHIZQ",
    "outputId": "df3f7075-4c2b-4898-cc22-dbb23eccab2d"
   },
   "outputs": [
    {
     "data": {
      "text/plain": [
       "array([[0., 0., 0.],\n",
       "       [0., 0., 0.]])"
      ]
     },
     "execution_count": 7,
     "metadata": {},
     "output_type": "execute_result"
    }
   ],
   "source": [
    "arr3=np.zeros((2,3))\n",
    "arr3"
   ]
  },
  {
   "cell_type": "code",
   "execution_count": 9,
   "metadata": {
    "colab": {
     "base_uri": "https://localhost:8080/"
    },
    "executionInfo": {
     "elapsed": 400,
     "status": "ok",
     "timestamp": 1689685902452,
     "user": {
      "displayName": "Smita Kulkarni",
      "userId": "08881354177496898482"
     },
     "user_tz": -330
    },
    "id": "CyanpWcrHkLG",
    "outputId": "defca59b-cd97-449e-9d14-24e58048418a"
   },
   "outputs": [
    {
     "data": {
      "text/plain": [
       "array([[1., 1., 1.],\n",
       "       [1., 1., 1.],\n",
       "       [1., 1., 1.]])"
      ]
     },
     "execution_count": 9,
     "metadata": {},
     "output_type": "execute_result"
    }
   ],
   "source": [
    "arr4=np.ones((3,3))\n",
    "arr4"
   ]
  },
  {
   "cell_type": "code",
   "execution_count": 10,
   "metadata": {
    "colab": {
     "base_uri": "https://localhost:8080/"
    },
    "executionInfo": {
     "elapsed": 376,
     "status": "ok",
     "timestamp": 1689688190565,
     "user": {
      "displayName": "Smita Kulkarni",
      "userId": "08881354177496898482"
     },
     "user_tz": -330
    },
    "id": "ToKSpSp7IKN1",
    "outputId": "b3b42037-e4fe-4bac-9338-8dc378a21031"
   },
   "outputs": [
    {
     "data": {
      "text/plain": [
       "array([[1., 0., 0., 0., 0.],\n",
       "       [0., 1., 0., 0., 0.],\n",
       "       [0., 0., 1., 0., 0.],\n",
       "       [0., 0., 0., 1., 0.],\n",
       "       [0., 0., 0., 0., 1.]])"
      ]
     },
     "execution_count": 10,
     "metadata": {},
     "output_type": "execute_result"
    }
   ],
   "source": [
    "arr5=np.identity(5)\n",
    "arr5"
   ]
  },
  {
   "cell_type": "code",
   "execution_count": 11,
   "metadata": {
    "colab": {
     "base_uri": "https://localhost:8080/"
    },
    "executionInfo": {
     "elapsed": 403,
     "status": "ok",
     "timestamp": 1689688220545,
     "user": {
      "displayName": "Smita Kulkarni",
      "userId": "08881354177496898482"
     },
     "user_tz": -330
    },
    "id": "by3n2QeqQ6cn",
    "outputId": "2b5e68ef-211d-4e37-91fc-46d5f5b2e279"
   },
   "outputs": [
    {
     "data": {
      "text/plain": [
       "array([0, 1, 2, 3, 4, 5, 6, 7, 8, 9])"
      ]
     },
     "execution_count": 11,
     "metadata": {},
     "output_type": "execute_result"
    }
   ],
   "source": [
    "arr6=np.arange(10)\n",
    "arr6"
   ]
  },
  {
   "cell_type": "code",
   "execution_count": 12,
   "metadata": {
    "colab": {
     "base_uri": "https://localhost:8080/"
    },
    "executionInfo": {
     "elapsed": 363,
     "status": "ok",
     "timestamp": 1689688246748,
     "user": {
      "displayName": "Smita Kulkarni",
      "userId": "08881354177496898482"
     },
     "user_tz": -330
    },
    "id": "O4rTHjRnRB8x",
    "outputId": "838dacf3-93bb-463f-8a4e-04896d1af818"
   },
   "outputs": [
    {
     "data": {
      "text/plain": [
       "array([ 5,  6,  7,  8,  9, 10, 11, 12, 13, 14, 15])"
      ]
     },
     "execution_count": 12,
     "metadata": {},
     "output_type": "execute_result"
    }
   ],
   "source": [
    "arr7=np.arange(5,16)\n",
    "arr7"
   ]
  },
  {
   "cell_type": "code",
   "execution_count": 13,
   "metadata": {
    "colab": {
     "base_uri": "https://localhost:8080/"
    },
    "executionInfo": {
     "elapsed": 420,
     "status": "ok",
     "timestamp": 1689688276121,
     "user": {
      "displayName": "Smita Kulkarni",
      "userId": "08881354177496898482"
     },
     "user_tz": -330
    },
    "id": "I5f_pi2JRIXW",
    "outputId": "1def1a32-35a0-4da3-c496-ec2749215f9f"
   },
   "outputs": [
    {
     "data": {
      "text/plain": [
       "array([ 5,  7,  9, 11, 13, 15])"
      ]
     },
     "execution_count": 13,
     "metadata": {},
     "output_type": "execute_result"
    }
   ],
   "source": [
    "arr8=np.arange(5,16,2)\n",
    "arr8"
   ]
  },
  {
   "cell_type": "code",
   "execution_count": 15,
   "metadata": {
    "colab": {
     "base_uri": "https://localhost:8080/"
    },
    "executionInfo": {
     "elapsed": 559,
     "status": "ok",
     "timestamp": 1689690250598,
     "user": {
      "displayName": "Smita Kulkarni",
      "userId": "08881354177496898482"
     },
     "user_tz": -330
    },
    "id": "_aKb5Yv1RPhr",
    "outputId": "dd46ae06-cbbc-4ae4-9a98-d642bea39b08"
   },
   "outputs": [
    {
     "data": {
      "text/plain": [
       "array([10.        , 11.11111111, 12.22222222, 13.33333333, 14.44444444,\n",
       "       15.55555556, 16.66666667, 17.77777778, 18.88888889, 20.        ])"
      ]
     },
     "execution_count": 15,
     "metadata": {},
     "output_type": "execute_result"
    }
   ],
   "source": [
    "arr9=np.linspace(10,20,10)\n",
    "arr9"
   ]
  },
  {
   "cell_type": "code",
   "execution_count": 16,
   "metadata": {
    "colab": {
     "base_uri": "https://localhost:8080/"
    },
    "executionInfo": {
     "elapsed": 3,
     "status": "ok",
     "timestamp": 1689690521458,
     "user": {
      "displayName": "Smita Kulkarni",
      "userId": "08881354177496898482"
     },
     "user_tz": -330
    },
    "id": "e2GlW4xPYvf1",
    "outputId": "a23955b5-35e1-416f-d5b5-627d61c900d8"
   },
   "outputs": [
    {
     "data": {
      "text/plain": [
       "array([10.        , 11.11111111, 12.22222222, 13.33333333, 14.44444444,\n",
       "       15.55555556, 16.66666667, 17.77777778, 18.88888889, 20.        ])"
      ]
     },
     "execution_count": 16,
     "metadata": {},
     "output_type": "execute_result"
    }
   ],
   "source": [
    "arr10=arr9.copy()\n",
    "arr10"
   ]
  },
  {
   "cell_type": "code",
   "execution_count": null,
   "metadata": {
    "id": "gJA3gjQxZzh9"
   },
   "outputs": [],
   "source": []
  }
 ],
 "metadata": {
  "colab": {
   "authorship_tag": "ABX9TyPgd7mhCIlNbamGK8P/yCLw",
   "provenance": []
  },
  "kernelspec": {
   "display_name": "Python 3 (ipykernel)",
   "language": "python",
   "name": "python3"
  },
  "language_info": {
   "codemirror_mode": {
    "name": "ipython",
    "version": 3
   },
   "file_extension": ".py",
   "mimetype": "text/x-python",
   "name": "python",
   "nbconvert_exporter": "python",
   "pygments_lexer": "ipython3",
   "version": "3.9.12"
  }
 },
 "nbformat": 4,
 "nbformat_minor": 1
}
